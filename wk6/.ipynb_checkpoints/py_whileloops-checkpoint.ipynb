{
 "cells": [
  {
   "cell_type": "markdown",
   "metadata": {},
   "source": [
    "# Cameron Holmes\n",
    "## Week6 - 02/22/2022\n",
    "### Python - While Loops"
   ]
  },
  {
   "cell_type": "markdown",
   "metadata": {},
   "source": [
    "**The general format of Python while loops:**\n",
    "\n",
    "<code>while test:\n",
    "           statements </code>"
   ]
  },
  {
   "cell_type": "code",
   "execution_count": null,
   "metadata": {},
   "outputs": [],
   "source": [
    "num = 1\n",
    "while num < 6:\n",
    "    print('num is currently: ', num)\n",
    "    print('num is less than or equal 6, now adding 1 to num')\n",
    "    num = num + 1\n",
    "else:\n",
    "    print('Stop while loop')\n",
    "    print('num after while loop is currently: ', num)"
   ]
  },
  {
   "cell_type": "code",
   "execution_count": null,
   "metadata": {},
   "outputs": [],
   "source": [
    "num=1\n",
    "sum=0\n",
    "\n",
    "while num <= 10:\n",
    "    sum = sum + num\n",
    "    num = num + 1 # num ++\n",
    "else:\n",
    "    print('sum = ', sum)\n"
   ]
  },
  {
   "cell_type": "code",
   "execution_count": null,
   "metadata": {},
   "outputs": [],
   "source": [
    "a = [10,12,13,14,15]\n",
    "i = 0\n",
    "while i < len(a):\n",
    "    print(a[i])\n",
    "    i+=1 # i = i+1\n",
    "    "
   ]
  },
  {
   "cell_type": "code",
   "execution_count": null,
   "metadata": {},
   "outputs": [],
   "source": [
    "a = [10,12,13,14,15]\n",
    "\n",
    "while a:\n",
    "    print(a.pop())"
   ]
  },
  {
   "cell_type": "code",
   "execution_count": null,
   "metadata": {},
   "outputs": [],
   "source": [
    "a"
   ]
  },
  {
   "cell_type": "code",
   "execution_count": null,
   "metadata": {},
   "outputs": [],
   "source": [
    "#continue keyword\n",
    "num = 0\n",
    "while num < 10:\n",
    "    num += 1\n",
    "    if num % 2 == 1:\n",
    "        continue\n",
    "    else:\n",
    "        print('num is currently: ',num)\n",
    "        print('num is less than 10, now adding 1 to num')"
   ]
  },
  {
   "cell_type": "code",
   "execution_count": null,
   "metadata": {},
   "outputs": [],
   "source": [
    "num = 0\n",
    "while num < 10:\n",
    "        print('num = ', num)\n",
    "        if num % 2 == 1:\n",
    "            continue\n",
    "        else:\n",
    "            print('num is currently: ',num)\n",
    "            print('num is less than 10, now adding 1 to num')\n",
    "        \n",
    "        #order of variables is important"
   ]
  },
  {
   "cell_type": "code",
   "execution_count": null,
   "metadata": {},
   "outputs": [],
   "source": [
    "#break the loop as soon as it sees 'a'\n",
    "#or l\n",
    "a = 'cis310DataAnalyticsClass'\n",
    "i = 0\n",
    "\n",
    "while i < len(a):\n",
    "    if a[i] == 'a' or a[i] == 'l':\n",
    "        continue\n",
    "    print('The Current Letter: ', a[i])\n",
    "    i+=1"
   ]
  },
  {
   "cell_type": "code",
   "execution_count": null,
   "metadata": {},
   "outputs": [],
   "source": [
    "a = 'cis310DataAnalyticsClass'\n",
    "i = 0\n",
    "\n",
    "while i < len(a):\n",
    "    if a[i] == 'a' or a[i] == 'l':\n",
    "        i+=1\n",
    "        continue\n",
    "    print('The Current Letter: ',i, \":\", a[i])\n",
    "    i+=1"
   ]
  }
 ],
 "metadata": {
  "kernelspec": {
   "display_name": "Python 3.7 - default",
   "language": "python",
   "name": "py37_default"
  },
  "language_info": {
   "codemirror_mode": {
    "name": "ipython",
    "version": 3
   },
   "file_extension": ".py",
   "mimetype": "text/x-python",
   "name": "python",
   "nbconvert_exporter": "python",
   "pygments_lexer": "ipython3",
   "version": "3.7.7"
  }
 },
 "nbformat": 4,
 "nbformat_minor": 4
}
