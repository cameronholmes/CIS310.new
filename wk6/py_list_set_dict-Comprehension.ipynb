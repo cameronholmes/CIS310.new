{
 "cells": [
  {
   "cell_type": "markdown",
   "metadata": {},
   "source": [
    "# Cameron Holmes\n",
    "## Week 6 2/24/2022\n",
    "### Python - List, Set, Dict Comprehension"
   ]
  },
  {
   "cell_type": "markdown",
   "metadata": {},
   "source": [
    "<code> new_list = [expression for member in iterable] <code/>\n",
    "    \n",
    "## Using Conditional Logic\n",
    "\n",
    "<code> new list = [expression for member in iterable(if conditional)]\n",
    "<code/>\n",
    "    \n",
    "<code> new list = [expression (if conditional) for member in iterable]\n",
    "<code/>"
   ]
  },
  {
   "cell_type": "code",
   "execution_count": 1,
   "metadata": {},
   "outputs": [
    {
     "name": "stdout",
     "output_type": "stream",
     "text": [
      "['C', 'I', 'S', '3', '1', '0', 'D', 'a', 't', 'a']\n"
     ]
    }
   ],
   "source": [
    "lst = []\n",
    "\n",
    "for letter in 'CIS310Data':\n",
    "    lst.append(letter)\n",
    "    \n",
    "print(lst)"
   ]
  },
  {
   "cell_type": "code",
   "execution_count": 2,
   "metadata": {},
   "outputs": [
    {
     "name": "stdout",
     "output_type": "stream",
     "text": [
      "['C', 'I', 'S', '3', '1', '0', 'D', 'a', 't', 'a']\n"
     ]
    }
   ],
   "source": [
    "'''\n",
    "Syntax of the list comprehension [expression for item in list]\n",
    "'''\n",
    "lst = [letter for letter in 'CIS310Data']\n",
    "print(lst)"
   ]
  },
  {
   "cell_type": "code",
   "execution_count": 3,
   "metadata": {},
   "outputs": [
    {
     "data": {
      "text/plain": [
       "[0, 1, 4, 9, 16, 25, 36, 49, 64, 81, 100]"
      ]
     },
     "execution_count": 3,
     "metadata": {},
     "output_type": "execute_result"
    }
   ],
   "source": [
    "squares = []\n",
    "\n",
    "for i in range(11):\n",
    "    squares.append(i * i)\n",
    "\n",
    "squares"
   ]
  },
  {
   "cell_type": "code",
   "execution_count": 4,
   "metadata": {},
   "outputs": [
    {
     "data": {
      "text/plain": [
       "[0, 1, 4, 9, 16, 25, 36, 49, 64, 81, 100]"
      ]
     },
     "execution_count": 4,
     "metadata": {},
     "output_type": "execute_result"
    }
   ],
   "source": [
    "squares = [n * n for n in range(11)]\n",
    "squares"
   ]
  },
  {
   "cell_type": "code",
   "execution_count": 5,
   "metadata": {},
   "outputs": [
    {
     "data": {
      "text/plain": [
       "[0, 4, 16, 36, 64, 100]"
      ]
     },
     "execution_count": 5,
     "metadata": {},
     "output_type": "execute_result"
    }
   ],
   "source": [
    "# Filter the data\n",
    "lst1 = [n * n for n in range(11) if n % 2 == 0]\n",
    "lst1"
   ]
  },
  {
   "cell_type": "code",
   "execution_count": 6,
   "metadata": {},
   "outputs": [
    {
     "data": {
      "text/plain": [
       "[1, 9, 25, 49, 81]"
      ]
     },
     "execution_count": 6,
     "metadata": {},
     "output_type": "execute_result"
    }
   ],
   "source": [
    "lst2 = [n * n for n in range(11) if n % 2 != 0]\n",
    "lst2"
   ]
  },
  {
   "cell_type": "code",
   "execution_count": 7,
   "metadata": {},
   "outputs": [
    {
     "data": {
      "text/plain": [
       "['o',\n",
       " 'u',\n",
       " 'i',\n",
       " 'a',\n",
       " 'e',\n",
       " 'u',\n",
       " 'e',\n",
       " 'i',\n",
       " 'a',\n",
       " 'a',\n",
       " 'i',\n",
       " 'a',\n",
       " 'i',\n",
       " 'i',\n",
       " 'a',\n",
       " 'a',\n",
       " 'i',\n",
       " 'a',\n",
       " 'i']"
      ]
     },
     "execution_count": 7,
     "metadata": {},
     "output_type": "execute_result"
    }
   ],
   "source": [
    "s = sentence = 'CIS310 communicate students with analytical thinking and practical skills'\n",
    "vowels = [l for l in s if l in 'aeiou']\n",
    "vowels"
   ]
  },
  {
   "cell_type": "code",
   "execution_count": 9,
   "metadata": {},
   "outputs": [
    {
     "data": {
      "text/plain": [
       "[1.25, 0, 10.22, 3.78, 0, 1.16]"
      ]
     },
     "execution_count": 9,
     "metadata": {},
     "output_type": "execute_result"
    }
   ],
   "source": [
    "prices = [1.25,-9.45,10.22,3.78,-5.92,1.16]\n",
    "new_prices = [v if v > 0 else 0 for v in prices]\n",
    "new_prices"
   ]
  },
  {
   "cell_type": "code",
   "execution_count": 13,
   "metadata": {},
   "outputs": [
    {
     "data": {
      "text/plain": [
       "['Odd', 'Even', 'Odd', 'Even', 'Odd', 'Even', 'Odd', 'Even', 'Odd', 'Even']"
      ]
     },
     "execution_count": 13,
     "metadata": {},
     "output_type": "execute_result"
    }
   ],
   "source": [
    "lst = ['Even' if num%2==0 else 'Odd' for num in range(1,11)]\n",
    "lst"
   ]
  },
  {
   "cell_type": "code",
   "execution_count": 16,
   "metadata": {
    "scrolled": true
   },
   "outputs": [
    {
     "data": {
      "text/plain": [
       "['t',\n",
       " 'd',\n",
       " 's',\n",
       " 'f',\n",
       " 'n',\n",
       " 'd',\n",
       " 't',\n",
       " 'h',\n",
       " 't',\n",
       " 't',\n",
       " 'h',\n",
       " 'f',\n",
       " 'n',\n",
       " 'n',\n",
       " 'c',\n",
       " 'l',\n",
       " 'm',\n",
       " 'p',\n",
       " 'c',\n",
       " 't',\n",
       " 'f',\n",
       " 'p',\n",
       " 'r',\n",
       " 'q',\n",
       " 'l',\n",
       " 't',\n",
       " 'y',\n",
       " 'd',\n",
       " 't',\n",
       " 'c',\n",
       " 's',\n",
       " 't',\n",
       " 't',\n",
       " 'h',\n",
       " 'c',\n",
       " 'n',\n",
       " 'm',\n",
       " 'y',\n",
       " 't',\n",
       " 'r',\n",
       " 'l',\n",
       " 'l',\n",
       " 'n',\n",
       " 'n']"
      ]
     },
     "execution_count": 16,
     "metadata": {},
     "output_type": "execute_result"
    }
   ],
   "source": [
    "#conditional logic\n",
    "s = 'Studies found that the financial impact of poor-quality data cost the US economy $3.1 trillion in 2016'\n",
    "vowels = 'aeiou'\n",
    "\n",
    "consonants = [letter for letter in s if letter.isalpha() and letter.islower() and letter not in vowels]\n",
    "consonants"
   ]
  },
  {
   "cell_type": "code",
   "execution_count": null,
   "metadata": {},
   "outputs": [],
   "source": [
    "#As an example, consider a situation in which you need to calculate the price after tax for a list of transactions:\n",
    "txns = [1.09,23.56,-55.8,57.84,4.56,-3,6.78,-7.5]\n",
    "TAX_RATE = .08\n",
    "\n"
   ]
  }
 ],
 "metadata": {
  "kernelspec": {
   "display_name": "Python 3.7 - default",
   "language": "python",
   "name": "py37_default"
  },
  "language_info": {
   "codemirror_mode": {
    "name": "ipython",
    "version": 3
   },
   "file_extension": ".py",
   "mimetype": "text/x-python",
   "name": "python",
   "nbconvert_exporter": "python",
   "pygments_lexer": "ipython3",
   "version": "3.7.7"
  }
 },
 "nbformat": 4,
 "nbformat_minor": 4
}
